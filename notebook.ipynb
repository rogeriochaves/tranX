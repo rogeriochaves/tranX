{
 "cells": [
  {
   "cell_type": "code",
   "execution_count": 1,
   "metadata": {},
   "outputs": [],
   "source": [
    "from asdl.hypothesis import *\n",
    "import pickle"
   ]
  },
  {
   "cell_type": "code",
   "execution_count": 6,
   "metadata": {},
   "outputs": [
    {
     "data": {
      "text/plain": [
       "[<components.dataset.Example at 0x1319d4e10>,\n",
       " <components.dataset.Example at 0x1319dd250>,\n",
       " <components.dataset.Example at 0x1319dd910>,\n",
       " <components.dataset.Example at 0x1319ddf90>,\n",
       " <components.dataset.Example at 0x1319deb90>,\n",
       " <components.dataset.Example at 0x1319e2890>,\n",
       " <components.dataset.Example at 0x1319e9090>,\n",
       " <components.dataset.Example at 0x10971c150>,\n",
       " <components.dataset.Example at 0x1319e9ed0>]"
      ]
     },
     "execution_count": 6,
     "metadata": {},
     "output_type": "execute_result"
    }
   ],
   "source": [
    "train = pickle.load(open('data/natural/train.bin', 'rb'))\n",
    "train"
   ]
  },
  {
   "cell_type": "code",
   "execution_count": 16,
   "metadata": {},
   "outputs": [
    {
     "data": {
      "text/plain": [
       "[ApplyRule[stmt -> Assign(expr* targets, expr value)] (t=0, p_t=-1, frontier_field=None),\n",
       " ApplyRule[expr -> Name(identifier id)] (t=1, p_t=0, frontier_field=expr* targets),\n",
       " GenToken[y] (t=2, p_t=1, frontier_field=identifier id),\n",
       " Reduce (t=3, p_t=0, frontier_field=expr* targets),\n",
       " ApplyRule[expr -> Num(object n)] (t=4, p_t=0, frontier_field=expr value),\n",
       " GenToken[30] (t=5, p_t=4, frontier_field=object n)]"
      ]
     },
     "execution_count": 16,
     "metadata": {},
     "output_type": "execute_result"
    }
   ],
   "source": [
    "train[1].tgt_actions"
   ]
  },
  {
   "cell_type": "code",
   "execution_count": 2,
   "metadata": {},
   "outputs": [
    {
     "data": {
      "text/plain": [
       "Vocab(source Vocabulary[size=719]words, primitive Vocabulary[size=540]words, code Vocabulary[size=573]words)"
      ]
     },
     "execution_count": 2,
     "metadata": {},
     "output_type": "execute_result"
    }
   ],
   "source": [
    "vocab = pickle.load(open('data/natural/vocab.freq15.bin', 'rb'))\n",
    "vocab"
   ]
  },
  {
   "cell_type": "code",
   "execution_count": 10,
   "metadata": {},
   "outputs": [
    {
     "data": {
      "text/plain": [
       "'value'"
      ]
     },
     "execution_count": 10,
     "metadata": {},
     "output_type": "execute_result"
    }
   ],
   "source": [
    "vocab.primitive.id2word(9)"
   ]
  },
  {
   "cell_type": "code",
   "execution_count": null,
   "metadata": {},
   "outputs": [],
   "source": []
  }
 ],
 "metadata": {
  "kernelspec": {
   "display_name": "Python 3",
   "language": "python",
   "name": "python3"
  },
  "language_info": {
   "codemirror_mode": {
    "name": "ipython",
    "version": 3
   },
   "file_extension": ".py",
   "mimetype": "text/x-python",
   "name": "python",
   "nbconvert_exporter": "python",
   "pygments_lexer": "ipython3",
   "version": "3.7.8"
  }
 },
 "nbformat": 4,
 "nbformat_minor": 4
}
